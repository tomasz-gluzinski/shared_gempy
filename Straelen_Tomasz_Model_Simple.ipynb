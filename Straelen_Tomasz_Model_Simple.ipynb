{
 "cells": [
  {
   "cell_type": "code",
   "execution_count": 145,
   "id": "b984a67a",
   "metadata": {},
   "outputs": [],
   "source": [
    "import gempy as gp\n",
    "#importing additional libraries\n",
    "\n",
    "import numpy as np\n",
    "import pandas as pd\n",
    "import matplotlib.pyplot as plt\n",
    "import os\n"
   ]
  },
  {
   "cell_type": "code",
   "execution_count": 146,
   "id": "e42af781",
   "metadata": {},
   "outputs": [],
   "source": [
    "#setting options\n",
    "np.random.seed(1515)\n",
    "pd.set_option('precision',2)\n",
    "\n",
    "geo_model = gp.create_model('Simple_Straelen_model')\n",
    "\n",
    "\n",
    "data_path ='C:/RWTH_Aachen/thesis/GemPy_Model_from_Andrea/refined/'"
   ]
  },
  {
   "cell_type": "code",
   "execution_count": 147,
   "id": "8f2cf264",
   "metadata": {},
   "outputs": [
    {
     "name": "stdout",
     "output_type": "stream",
     "text": [
      "Active grids: ['regular']\n"
     ]
    },
    {
     "data": {
      "text/plain": [
       "Simple_Straelen_model  2023-03-16 13:52"
      ]
     },
     "execution_count": 147,
     "metadata": {},
     "output_type": "execute_result"
    }
   ],
   "source": [
    "#importing the data from csv files and setting extent and resolution\n",
    "\n",
    "#put dimentions of your model and x y z limits\n",
    "gp.init_data(geo_model, [200000, 220000., 370000, 394200., 0, 2500.], [100, 100, 50],\n",
    "           \n",
    "             path_o=data_path + \"all_model_orientations_rev.csv\",\n",
    "             path_i=data_path + \"handpicked_all_model_points_rev.csv\",\n",
    "             default_values=True)"
   ]
  },
  {
   "cell_type": "code",
   "execution_count": 148,
   "id": "c7986166",
   "metadata": {},
   "outputs": [
    {
     "data": {
      "text/html": [
       "<style type=\"text/css\">\n",
       "#T_b3a98_row0_col3 {\n",
       "  background-color: #015482;\n",
       "}\n",
       "#T_b3a98_row1_col3 {\n",
       "  background-color: #9f0052;\n",
       "}\n",
       "#T_b3a98_row2_col3 {\n",
       "  background-color: #ffbe00;\n",
       "}\n",
       "#T_b3a98_row3_col3 {\n",
       "  background-color: #728f02;\n",
       "}\n",
       "#T_b3a98_row4_col3 {\n",
       "  background-color: #443988;\n",
       "}\n",
       "#T_b3a98_row5_col3 {\n",
       "  background-color: #ff3f20;\n",
       "}\n",
       "</style>\n",
       "<table id=\"T_b3a98_\">\n",
       "  <thead>\n",
       "    <tr>\n",
       "      <th class=\"blank level0\" >&nbsp;</th>\n",
       "      <th class=\"col_heading level0 col0\" >surface</th>\n",
       "      <th class=\"col_heading level0 col1\" >series</th>\n",
       "      <th class=\"col_heading level0 col2\" >order_surfaces</th>\n",
       "      <th class=\"col_heading level0 col3\" >color</th>\n",
       "      <th class=\"col_heading level0 col4\" >id</th>\n",
       "    </tr>\n",
       "  </thead>\n",
       "  <tbody>\n",
       "    <tr>\n",
       "      <th id=\"T_b3a98_level0_row0\" class=\"row_heading level0 row0\" >0</th>\n",
       "      <td id=\"T_b3a98_row0_col0\" class=\"data row0 col0\" >Viersen_Fault</td>\n",
       "      <td id=\"T_b3a98_row0_col1\" class=\"data row0 col1\" >Default series</td>\n",
       "      <td id=\"T_b3a98_row0_col2\" class=\"data row0 col2\" >1</td>\n",
       "      <td id=\"T_b3a98_row0_col3\" class=\"data row0 col3\" >#015482</td>\n",
       "      <td id=\"T_b3a98_row0_col4\" class=\"data row0 col4\" >1</td>\n",
       "    </tr>\n",
       "    <tr>\n",
       "      <th id=\"T_b3a98_level0_row1\" class=\"row_heading level0 row1\" >1</th>\n",
       "      <td id=\"T_b3a98_row1_col0\" class=\"data row1 col0\" >Base_Tertiary</td>\n",
       "      <td id=\"T_b3a98_row1_col1\" class=\"data row1 col1\" >Default series</td>\n",
       "      <td id=\"T_b3a98_row1_col2\" class=\"data row1 col2\" >2</td>\n",
       "      <td id=\"T_b3a98_row1_col3\" class=\"data row1 col3\" >#9f0052</td>\n",
       "      <td id=\"T_b3a98_row1_col4\" class=\"data row1 col4\" >2</td>\n",
       "    </tr>\n",
       "    <tr>\n",
       "      <th id=\"T_b3a98_level0_row2\" class=\"row_heading level0 row2\" >2</th>\n",
       "      <td id=\"T_b3a98_row2_col0\" class=\"data row2 col0\" >Top_Dinantian</td>\n",
       "      <td id=\"T_b3a98_row2_col1\" class=\"data row2 col1\" >Default series</td>\n",
       "      <td id=\"T_b3a98_row2_col2\" class=\"data row2 col2\" >3</td>\n",
       "      <td id=\"T_b3a98_row2_col3\" class=\"data row2 col3\" >#ffbe00</td>\n",
       "      <td id=\"T_b3a98_row2_col4\" class=\"data row2 col4\" >3</td>\n",
       "    </tr>\n",
       "    <tr>\n",
       "      <th id=\"T_b3a98_level0_row3\" class=\"row_heading level0 row3\" >3</th>\n",
       "      <td id=\"T_b3a98_row3_col0\" class=\"data row3 col0\" >Base_Dinantian</td>\n",
       "      <td id=\"T_b3a98_row3_col1\" class=\"data row3 col1\" >Default series</td>\n",
       "      <td id=\"T_b3a98_row3_col2\" class=\"data row3 col2\" >4</td>\n",
       "      <td id=\"T_b3a98_row3_col3\" class=\"data row3 col3\" >#728f02</td>\n",
       "      <td id=\"T_b3a98_row3_col4\" class=\"data row3 col4\" >4</td>\n",
       "    </tr>\n",
       "    <tr>\n",
       "      <th id=\"T_b3a98_level0_row4\" class=\"row_heading level0 row4\" >4</th>\n",
       "      <td id=\"T_b3a98_row4_col0\" class=\"data row4 col0\" >Top_Devonian</td>\n",
       "      <td id=\"T_b3a98_row4_col1\" class=\"data row4 col1\" >Default series</td>\n",
       "      <td id=\"T_b3a98_row4_col2\" class=\"data row4 col2\" >5</td>\n",
       "      <td id=\"T_b3a98_row4_col3\" class=\"data row4 col3\" >#443988</td>\n",
       "      <td id=\"T_b3a98_row4_col4\" class=\"data row4 col4\" >5</td>\n",
       "    </tr>\n",
       "    <tr>\n",
       "      <th id=\"T_b3a98_level0_row5\" class=\"row_heading level0 row5\" >5</th>\n",
       "      <td id=\"T_b3a98_row5_col0\" class=\"data row5 col0\" >basement</td>\n",
       "      <td id=\"T_b3a98_row5_col1\" class=\"data row5 col1\" >Basement</td>\n",
       "      <td id=\"T_b3a98_row5_col2\" class=\"data row5 col2\" >1</td>\n",
       "      <td id=\"T_b3a98_row5_col3\" class=\"data row5 col3\" >#ff3f20</td>\n",
       "      <td id=\"T_b3a98_row5_col4\" class=\"data row5 col4\" >6</td>\n",
       "    </tr>\n",
       "  </tbody>\n",
       "</table>\n"
      ],
      "text/plain": [
       "          surface          series  order_surfaces    color  id\n",
       "0   Viersen_Fault  Default series               1  #015482   1\n",
       "1   Base_Tertiary  Default series               2  #9f0052   2\n",
       "2   Top_Dinantian  Default series               3  #ffbe00   3\n",
       "3  Base_Dinantian  Default series               4  #728f02   4\n",
       "4    Top_Devonian  Default series               5  #443988   5\n",
       "5        basement        Basement               1  #ff3f20   6"
      ]
     },
     "execution_count": 148,
     "metadata": {},
     "output_type": "execute_result"
    }
   ],
   "source": [
    "geo_model.surfaces"
   ]
  },
  {
   "cell_type": "code",
   "execution_count": 149,
   "id": "1a4d5716",
   "metadata": {},
   "outputs": [
    {
     "data": {
      "text/html": [
       "<div>\n",
       "<style scoped>\n",
       "    .dataframe tbody tr th:only-of-type {\n",
       "        vertical-align: middle;\n",
       "    }\n",
       "\n",
       "    .dataframe tbody tr th {\n",
       "        vertical-align: top;\n",
       "    }\n",
       "\n",
       "    .dataframe thead th {\n",
       "        text-align: right;\n",
       "    }\n",
       "</style>\n",
       "<table border=\"1\" class=\"dataframe\">\n",
       "  <thead>\n",
       "    <tr style=\"text-align: right;\">\n",
       "      <th></th>\n",
       "      <th>X</th>\n",
       "      <th>Y</th>\n",
       "      <th>Z</th>\n",
       "      <th>smooth</th>\n",
       "      <th>surface</th>\n",
       "    </tr>\n",
       "  </thead>\n",
       "  <tbody>\n",
       "    <tr>\n",
       "      <th>0</th>\n",
       "      <td>212886.47</td>\n",
       "      <td>386293.25</td>\n",
       "      <td>1438.84</td>\n",
       "      <td>2.00e-06</td>\n",
       "      <td>Viersen_Fault</td>\n",
       "    </tr>\n",
       "    <tr>\n",
       "      <th>1</th>\n",
       "      <td>214018.93</td>\n",
       "      <td>381038.23</td>\n",
       "      <td>1292.09</td>\n",
       "      <td>2.00e-06</td>\n",
       "      <td>Viersen_Fault</td>\n",
       "    </tr>\n",
       "    <tr>\n",
       "      <th>2</th>\n",
       "      <td>214036.47</td>\n",
       "      <td>378345.80</td>\n",
       "      <td>878.66</td>\n",
       "      <td>2.00e-06</td>\n",
       "      <td>Viersen_Fault</td>\n",
       "    </tr>\n",
       "    <tr>\n",
       "      <th>3</th>\n",
       "      <td>212497.13</td>\n",
       "      <td>388727.50</td>\n",
       "      <td>1778.52</td>\n",
       "      <td>2.00e-06</td>\n",
       "      <td>Viersen_Fault</td>\n",
       "    </tr>\n",
       "    <tr>\n",
       "      <th>4</th>\n",
       "      <td>214900.68</td>\n",
       "      <td>375129.38</td>\n",
       "      <td>935.02</td>\n",
       "      <td>2.00e-06</td>\n",
       "      <td>Viersen_Fault</td>\n",
       "    </tr>\n",
       "  </tbody>\n",
       "</table>\n",
       "</div>"
      ],
      "text/plain": [
       "           X          Y        Z    smooth        surface\n",
       "0  212886.47  386293.25  1438.84  2.00e-06  Viersen_Fault\n",
       "1  214018.93  381038.23  1292.09  2.00e-06  Viersen_Fault\n",
       "2  214036.47  378345.80   878.66  2.00e-06  Viersen_Fault\n",
       "3  212497.13  388727.50  1778.52  2.00e-06  Viersen_Fault\n",
       "4  214900.68  375129.38   935.02  2.00e-06  Viersen_Fault"
      ]
     },
     "execution_count": 149,
     "metadata": {},
     "output_type": "execute_result"
    }
   ],
   "source": [
    "#setting the order of the formations and locations - geol sequence\n",
    "gp.get_data(geo_model, 'surface_points').head()\n",
    "\n",
    "\n"
   ]
  },
  {
   "cell_type": "code",
   "execution_count": 150,
   "id": "4ca05620",
   "metadata": {},
   "outputs": [
    {
     "data": {
      "text/html": [
       "<div>\n",
       "<style scoped>\n",
       "    .dataframe tbody tr th:only-of-type {\n",
       "        vertical-align: middle;\n",
       "    }\n",
       "\n",
       "    .dataframe tbody tr th {\n",
       "        vertical-align: top;\n",
       "    }\n",
       "\n",
       "    .dataframe thead th {\n",
       "        text-align: right;\n",
       "    }\n",
       "</style>\n",
       "<table border=\"1\" class=\"dataframe\">\n",
       "  <thead>\n",
       "    <tr style=\"text-align: right;\">\n",
       "      <th></th>\n",
       "      <th>X</th>\n",
       "      <th>Y</th>\n",
       "      <th>Z</th>\n",
       "      <th>G_x</th>\n",
       "      <th>G_y</th>\n",
       "      <th>G_z</th>\n",
       "      <th>smooth</th>\n",
       "      <th>surface</th>\n",
       "    </tr>\n",
       "  </thead>\n",
       "  <tbody>\n",
       "    <tr>\n",
       "      <th>0</th>\n",
       "      <td>213147.2</td>\n",
       "      <td>386374.1</td>\n",
       "      <td>1681.25</td>\n",
       "      <td>-9.06e-01</td>\n",
       "      <td>1.00e-12</td>\n",
       "      <td>0.42</td>\n",
       "      <td>0.01</td>\n",
       "      <td>Viersen_Fault</td>\n",
       "    </tr>\n",
       "    <tr>\n",
       "      <th>1</th>\n",
       "      <td>203610.0</td>\n",
       "      <td>379150.0</td>\n",
       "      <td>1879.86</td>\n",
       "      <td>1.00e-12</td>\n",
       "      <td>1.00e-12</td>\n",
       "      <td>1.00</td>\n",
       "      <td>0.01</td>\n",
       "      <td>Base_Tertiary</td>\n",
       "    </tr>\n",
       "    <tr>\n",
       "      <th>2</th>\n",
       "      <td>203010.0</td>\n",
       "      <td>373670.0</td>\n",
       "      <td>1200.10</td>\n",
       "      <td>1.00e-12</td>\n",
       "      <td>1.00e-12</td>\n",
       "      <td>1.00</td>\n",
       "      <td>0.01</td>\n",
       "      <td>Top_Dinantian</td>\n",
       "    </tr>\n",
       "    <tr>\n",
       "      <th>3</th>\n",
       "      <td>204000.0</td>\n",
       "      <td>394000.0</td>\n",
       "      <td>908.20</td>\n",
       "      <td>1.00e-12</td>\n",
       "      <td>1.00e-12</td>\n",
       "      <td>1.00</td>\n",
       "      <td>0.01</td>\n",
       "      <td>Base_Dinantian</td>\n",
       "    </tr>\n",
       "    <tr>\n",
       "      <th>4</th>\n",
       "      <td>200710.0</td>\n",
       "      <td>382530.0</td>\n",
       "      <td>439.80</td>\n",
       "      <td>1.00e-12</td>\n",
       "      <td>1.00e-12</td>\n",
       "      <td>1.00</td>\n",
       "      <td>0.01</td>\n",
       "      <td>Top_Devonian</td>\n",
       "    </tr>\n",
       "  </tbody>\n",
       "</table>\n",
       "</div>"
      ],
      "text/plain": [
       "          X         Y        Z       G_x       G_y   G_z  smooth  \\\n",
       "0  213147.2  386374.1  1681.25 -9.06e-01  1.00e-12  0.42    0.01   \n",
       "1  203610.0  379150.0  1879.86  1.00e-12  1.00e-12  1.00    0.01   \n",
       "2  203010.0  373670.0  1200.10  1.00e-12  1.00e-12  1.00    0.01   \n",
       "3  204000.0  394000.0   908.20  1.00e-12  1.00e-12  1.00    0.01   \n",
       "4  200710.0  382530.0   439.80  1.00e-12  1.00e-12  1.00    0.01   \n",
       "\n",
       "          surface  \n",
       "0   Viersen_Fault  \n",
       "1   Base_Tertiary  \n",
       "2   Top_Dinantian  \n",
       "3  Base_Dinantian  \n",
       "4    Top_Devonian  "
      ]
     },
     "execution_count": 150,
     "metadata": {},
     "output_type": "execute_result"
    }
   ],
   "source": [
    "gp.get_data(geo_model, 'orientations').head()"
   ]
  },
  {
   "cell_type": "code",
   "execution_count": 167,
   "id": "7771192b",
   "metadata": {},
   "outputs": [
    {
     "ename": "AttributeError",
     "evalue": "add_surfaces_values",
     "output_type": "error",
     "traceback": [
      "\u001b[1;31m---------------------------------------------------------------------------\u001b[0m",
      "\u001b[1;31mAttributeError\u001b[0m                            Traceback (most recent call last)",
      "\u001b[1;32m~\\AppData\\Local\\Temp\\ipykernel_22904\\1718161281.py\u001b[0m in \u001b[0;36m<module>\u001b[1;34m\u001b[0m\n\u001b[0;32m      1\u001b[0m \u001b[1;31m#Assigning densities to the layers\u001b[0m\u001b[1;33m\u001b[0m\u001b[1;33m\u001b[0m\u001b[0m\n\u001b[1;32m----> 2\u001b[1;33m \u001b[0mgeo_model\u001b[0m\u001b[1;33m.\u001b[0m\u001b[0msurfaces\u001b[0m\u001b[1;33m.\u001b[0m\u001b[0madd_surfaces_values\u001b[0m\u001b[1;33m(\u001b[0m\u001b[1;33m[\u001b[0m\u001b[1;33m[\u001b[0m\u001b[1;36m1\u001b[0m\u001b[1;33m,\u001b[0m \u001b[1;36m2.2\u001b[0m\u001b[1;33m,\u001b[0m \u001b[1;36m2.3\u001b[0m\u001b[1;33m,\u001b[0m \u001b[1;36m2.7\u001b[0m\u001b[1;33m,\u001b[0m \u001b[1;36m2.5\u001b[0m\u001b[1;33m]\u001b[0m\u001b[1;33m,\u001b[0m \u001b[1;33m[\u001b[0m\u001b[1;34m'value_0'\u001b[0m\u001b[1;33m]\u001b[0m\u001b[1;33m]\u001b[0m\u001b[1;33m)\u001b[0m\u001b[1;33m\u001b[0m\u001b[1;33m\u001b[0m\u001b[0m\n\u001b[0m",
      "\u001b[1;32m~\\.conda\\envs\\model_gem\\lib\\site-packages\\gempy\\core\\model.py\u001b[0m in \u001b[0;36m__getattr__\u001b[1;34m(self, item)\u001b[0m\n\u001b[0;32m     35\u001b[0m             \u001b[1;32mreturn\u001b[0m \u001b[0mgetattr\u001b[0m\u001b[1;33m(\u001b[0m\u001b[0mself\u001b[0m\u001b[1;33m.\u001b[0m\u001b[0m_w\u001b[0m\u001b[1;33m,\u001b[0m \u001b[0mitem\u001b[0m\u001b[1;33m)\u001b[0m\u001b[1;33m\u001b[0m\u001b[1;33m\u001b[0m\u001b[0m\n\u001b[0;32m     36\u001b[0m         \u001b[1;32melse\u001b[0m\u001b[1;33m:\u001b[0m\u001b[1;33m\u001b[0m\u001b[1;33m\u001b[0m\u001b[0m\n\u001b[1;32m---> 37\u001b[1;33m             \u001b[1;32mraise\u001b[0m \u001b[0mAttributeError\u001b[0m\u001b[1;33m(\u001b[0m\u001b[0mitem\u001b[0m\u001b[1;33m)\u001b[0m\u001b[1;33m\u001b[0m\u001b[1;33m\u001b[0m\u001b[0m\n\u001b[0m\u001b[0;32m     38\u001b[0m \u001b[1;33m\u001b[0m\u001b[0m\n\u001b[0;32m     39\u001b[0m \u001b[1;33m\u001b[0m\u001b[0m\n",
      "\u001b[1;31mAttributeError\u001b[0m: add_surfaces_values"
     ]
    }
   ],
   "source": [
    "#Assigning densities to the layers \n",
    "geo_model.surfaces.add_surfaces_values([[1, 2.2, 2.3, 2.7, 2.5], ['value_0']])"
   ]
  },
  {
   "cell_type": "code",
   "execution_count": 152,
   "id": "c45c0f8a",
   "metadata": {},
   "outputs": [
    {
     "data": {
      "text/html": [
       "<style type=\"text/css\">\n",
       "#T_59fef_row0_col3 {\n",
       "  background-color: #015482;\n",
       "}\n",
       "#T_59fef_row1_col3 {\n",
       "  background-color: #9f0052;\n",
       "}\n",
       "#T_59fef_row2_col3 {\n",
       "  background-color: #ffbe00;\n",
       "}\n",
       "#T_59fef_row3_col3 {\n",
       "  background-color: #728f02;\n",
       "}\n",
       "#T_59fef_row4_col3 {\n",
       "  background-color: #443988;\n",
       "}\n",
       "#T_59fef_row5_col3 {\n",
       "  background-color: #ff3f20;\n",
       "}\n",
       "</style>\n",
       "<table id=\"T_59fef_\">\n",
       "  <thead>\n",
       "    <tr>\n",
       "      <th class=\"blank level0\" >&nbsp;</th>\n",
       "      <th class=\"col_heading level0 col0\" >surface</th>\n",
       "      <th class=\"col_heading level0 col1\" >series</th>\n",
       "      <th class=\"col_heading level0 col2\" >order_surfaces</th>\n",
       "      <th class=\"col_heading level0 col3\" >color</th>\n",
       "      <th class=\"col_heading level0 col4\" >id</th>\n",
       "    </tr>\n",
       "  </thead>\n",
       "  <tbody>\n",
       "    <tr>\n",
       "      <th id=\"T_59fef_level0_row0\" class=\"row_heading level0 row0\" >0</th>\n",
       "      <td id=\"T_59fef_row0_col0\" class=\"data row0 col0\" >Viersen_Fault</td>\n",
       "      <td id=\"T_59fef_row0_col1\" class=\"data row0 col1\" >Fault_Series</td>\n",
       "      <td id=\"T_59fef_row0_col2\" class=\"data row0 col2\" >1</td>\n",
       "      <td id=\"T_59fef_row0_col3\" class=\"data row0 col3\" >#015482</td>\n",
       "      <td id=\"T_59fef_row0_col4\" class=\"data row0 col4\" >1</td>\n",
       "    </tr>\n",
       "    <tr>\n",
       "      <th id=\"T_59fef_level0_row1\" class=\"row_heading level0 row1\" >1</th>\n",
       "      <td id=\"T_59fef_row1_col0\" class=\"data row1 col0\" >Base_Tertiary</td>\n",
       "      <td id=\"T_59fef_row1_col1\" class=\"data row1 col1\" >Strat_Series</td>\n",
       "      <td id=\"T_59fef_row1_col2\" class=\"data row1 col2\" >1</td>\n",
       "      <td id=\"T_59fef_row1_col3\" class=\"data row1 col3\" >#9f0052</td>\n",
       "      <td id=\"T_59fef_row1_col4\" class=\"data row1 col4\" >2</td>\n",
       "    </tr>\n",
       "    <tr>\n",
       "      <th id=\"T_59fef_level0_row2\" class=\"row_heading level0 row2\" >2</th>\n",
       "      <td id=\"T_59fef_row2_col0\" class=\"data row2 col0\" >Top_Dinantian</td>\n",
       "      <td id=\"T_59fef_row2_col1\" class=\"data row2 col1\" >Strat_Series</td>\n",
       "      <td id=\"T_59fef_row2_col2\" class=\"data row2 col2\" >2</td>\n",
       "      <td id=\"T_59fef_row2_col3\" class=\"data row2 col3\" >#ffbe00</td>\n",
       "      <td id=\"T_59fef_row2_col4\" class=\"data row2 col4\" >3</td>\n",
       "    </tr>\n",
       "    <tr>\n",
       "      <th id=\"T_59fef_level0_row3\" class=\"row_heading level0 row3\" >3</th>\n",
       "      <td id=\"T_59fef_row3_col0\" class=\"data row3 col0\" >Base_Dinantian</td>\n",
       "      <td id=\"T_59fef_row3_col1\" class=\"data row3 col1\" >Strat_Series</td>\n",
       "      <td id=\"T_59fef_row3_col2\" class=\"data row3 col2\" >3</td>\n",
       "      <td id=\"T_59fef_row3_col3\" class=\"data row3 col3\" >#728f02</td>\n",
       "      <td id=\"T_59fef_row3_col4\" class=\"data row3 col4\" >4</td>\n",
       "    </tr>\n",
       "    <tr>\n",
       "      <th id=\"T_59fef_level0_row4\" class=\"row_heading level0 row4\" >4</th>\n",
       "      <td id=\"T_59fef_row4_col0\" class=\"data row4 col0\" >Top_Devonian</td>\n",
       "      <td id=\"T_59fef_row4_col1\" class=\"data row4 col1\" >Strat_Series</td>\n",
       "      <td id=\"T_59fef_row4_col2\" class=\"data row4 col2\" >4</td>\n",
       "      <td id=\"T_59fef_row4_col3\" class=\"data row4 col3\" >#443988</td>\n",
       "      <td id=\"T_59fef_row4_col4\" class=\"data row4 col4\" >5</td>\n",
       "    </tr>\n",
       "    <tr>\n",
       "      <th id=\"T_59fef_level0_row5\" class=\"row_heading level0 row5\" >5</th>\n",
       "      <td id=\"T_59fef_row5_col0\" class=\"data row5 col0\" >basement</td>\n",
       "      <td id=\"T_59fef_row5_col1\" class=\"data row5 col1\" >Basement</td>\n",
       "      <td id=\"T_59fef_row5_col2\" class=\"data row5 col2\" >1</td>\n",
       "      <td id=\"T_59fef_row5_col3\" class=\"data row5 col3\" >#ff3f20</td>\n",
       "      <td id=\"T_59fef_row5_col4\" class=\"data row5 col4\" >6</td>\n",
       "    </tr>\n",
       "  </tbody>\n",
       "</table>\n"
      ],
      "text/plain": [
       "          surface        series  order_surfaces    color  id\n",
       "0   Viersen_Fault  Fault_Series               1  #015482   1\n",
       "1   Base_Tertiary  Strat_Series               1  #9f0052   2\n",
       "2   Top_Dinantian  Strat_Series               2  #ffbe00   3\n",
       "3  Base_Dinantian  Strat_Series               3  #728f02   4\n",
       "4    Top_Devonian  Strat_Series               4  #443988   5\n",
       "5        basement      Basement               1  #ff3f20   6"
      ]
     },
     "execution_count": 152,
     "metadata": {},
     "output_type": "execute_result"
    }
   ],
   "source": [
    "gp.map_stack_to_surfaces(geo_model,\n",
    "                         {\"Fault_Series\": 'Viersen_Fault',\n",
    "                          \"Strat_Series\": ('Base_Tertiary', 'Top_Dinantian',\n",
    "                                           'Base_Dinantian', 'Top_Devonian',)},\n",
    "                         remove_unused_series=True)"
   ]
  },
  {
   "cell_type": "code",
   "execution_count": 153,
   "id": "7827275b",
   "metadata": {},
   "outputs": [
    {
     "data": {
      "text/html": [
       "<table border=\"1\" class=\"dataframe\">\n",
       "  <thead>\n",
       "    <tr style=\"text-align: right;\">\n",
       "      <th></th>\n",
       "      <th>order_series</th>\n",
       "      <th>BottomRelation</th>\n",
       "      <th>isActive</th>\n",
       "      <th>isFault</th>\n",
       "      <th>isFinite</th>\n",
       "    </tr>\n",
       "  </thead>\n",
       "  <tbody>\n",
       "    <tr>\n",
       "      <th>Fault_Series</th>\n",
       "      <td>1</td>\n",
       "      <td>Erosion</td>\n",
       "      <td>True</td>\n",
       "      <td>False</td>\n",
       "      <td>False</td>\n",
       "    </tr>\n",
       "    <tr>\n",
       "      <th>Strat_Series</th>\n",
       "      <td>2</td>\n",
       "      <td>Erosion</td>\n",
       "      <td>True</td>\n",
       "      <td>False</td>\n",
       "      <td>False</td>\n",
       "    </tr>\n",
       "    <tr>\n",
       "      <th>Basement</th>\n",
       "      <td>3</td>\n",
       "      <td>Erosion</td>\n",
       "      <td>False</td>\n",
       "      <td>False</td>\n",
       "      <td>False</td>\n",
       "    </tr>\n",
       "  </tbody>\n",
       "</table>"
      ],
      "text/plain": [
       "              order_series BottomRelation  isActive  isFault  isFinite\n",
       "Fault_Series             1        Erosion      True    False     False\n",
       "Strat_Series             2        Erosion      True    False     False\n",
       "Basement                 3        Erosion     False    False     False"
      ]
     },
     "execution_count": 153,
     "metadata": {},
     "output_type": "execute_result"
    }
   ],
   "source": [
    "geo_model.stack"
   ]
  },
  {
   "cell_type": "code",
   "execution_count": null,
   "id": "a51d0e66",
   "metadata": {},
   "outputs": [],
   "source": []
  },
  {
   "cell_type": "code",
   "execution_count": 154,
   "id": "5b871de5",
   "metadata": {},
   "outputs": [
    {
     "name": "stdout",
     "output_type": "stream",
     "text": [
      "Fault colors changed. If you do not like this behavior, set change_color to False.\n"
     ]
    },
    {
     "data": {
      "text/html": [
       "<table border=\"1\" class=\"dataframe\">\n",
       "  <thead>\n",
       "    <tr style=\"text-align: right;\">\n",
       "      <th></th>\n",
       "      <th>order_series</th>\n",
       "      <th>BottomRelation</th>\n",
       "      <th>isActive</th>\n",
       "      <th>isFault</th>\n",
       "      <th>isFinite</th>\n",
       "    </tr>\n",
       "  </thead>\n",
       "  <tbody>\n",
       "    <tr>\n",
       "      <th>Fault_Series</th>\n",
       "      <td>1</td>\n",
       "      <td>Fault</td>\n",
       "      <td>True</td>\n",
       "      <td>True</td>\n",
       "      <td>False</td>\n",
       "    </tr>\n",
       "    <tr>\n",
       "      <th>Strat_Series</th>\n",
       "      <td>2</td>\n",
       "      <td>Erosion</td>\n",
       "      <td>True</td>\n",
       "      <td>False</td>\n",
       "      <td>False</td>\n",
       "    </tr>\n",
       "    <tr>\n",
       "      <th>Basement</th>\n",
       "      <td>3</td>\n",
       "      <td>Erosion</td>\n",
       "      <td>False</td>\n",
       "      <td>False</td>\n",
       "      <td>False</td>\n",
       "    </tr>\n",
       "  </tbody>\n",
       "</table>"
      ],
      "text/plain": [
       "              order_series BottomRelation  isActive  isFault  isFinite\n",
       "Fault_Series             1          Fault      True     True     False\n",
       "Strat_Series             2        Erosion      True    False     False\n",
       "Basement                 3        Erosion     False    False     False"
      ]
     },
     "execution_count": 154,
     "metadata": {},
     "output_type": "execute_result"
    }
   ],
   "source": [
    "geo_model.set_is_fault(['Fault_Series'])"
   ]
  },
  {
   "cell_type": "code",
   "execution_count": 155,
   "id": "8f191c5c",
   "metadata": {},
   "outputs": [
    {
     "data": {
      "text/html": [
       "<div>\n",
       "<style scoped>\n",
       "    .dataframe tbody tr th:only-of-type {\n",
       "        vertical-align: middle;\n",
       "    }\n",
       "\n",
       "    .dataframe tbody tr th {\n",
       "        vertical-align: top;\n",
       "    }\n",
       "\n",
       "    .dataframe thead th {\n",
       "        text-align: right;\n",
       "    }\n",
       "</style>\n",
       "<table border=\"1\" class=\"dataframe\">\n",
       "  <thead>\n",
       "    <tr style=\"text-align: right;\">\n",
       "      <th></th>\n",
       "      <th>Fault_Series</th>\n",
       "      <th>Strat_Series</th>\n",
       "      <th>Basement</th>\n",
       "    </tr>\n",
       "  </thead>\n",
       "  <tbody>\n",
       "    <tr>\n",
       "      <th>Fault_Series</th>\n",
       "      <td>False</td>\n",
       "      <td>True</td>\n",
       "      <td>True</td>\n",
       "    </tr>\n",
       "    <tr>\n",
       "      <th>Strat_Series</th>\n",
       "      <td>False</td>\n",
       "      <td>False</td>\n",
       "      <td>False</td>\n",
       "    </tr>\n",
       "    <tr>\n",
       "      <th>Basement</th>\n",
       "      <td>False</td>\n",
       "      <td>False</td>\n",
       "      <td>False</td>\n",
       "    </tr>\n",
       "  </tbody>\n",
       "</table>\n",
       "</div>"
      ],
      "text/plain": [
       "              Fault_Series  Strat_Series  Basement\n",
       "Fault_Series         False          True      True\n",
       "Strat_Series         False         False     False\n",
       "Basement             False         False     False"
      ]
     },
     "execution_count": 155,
     "metadata": {},
     "output_type": "execute_result"
    }
   ],
   "source": [
    "geo_model.faults.faults_relations_df"
   ]
  },
  {
   "cell_type": "code",
   "execution_count": 156,
   "id": "0f2da145",
   "metadata": {},
   "outputs": [
    {
     "data": {
      "text/html": [
       "<div>\n",
       "<style scoped>\n",
       "    .dataframe tbody tr th:only-of-type {\n",
       "        vertical-align: middle;\n",
       "    }\n",
       "\n",
       "    .dataframe tbody tr th {\n",
       "        vertical-align: top;\n",
       "    }\n",
       "\n",
       "    .dataframe thead th {\n",
       "        text-align: right;\n",
       "    }\n",
       "</style>\n",
       "<table border=\"1\" class=\"dataframe\">\n",
       "  <thead>\n",
       "    <tr style=\"text-align: right;\">\n",
       "      <th></th>\n",
       "      <th>X</th>\n",
       "      <th>Y</th>\n",
       "      <th>Z</th>\n",
       "      <th>smooth</th>\n",
       "      <th>surface</th>\n",
       "    </tr>\n",
       "  </thead>\n",
       "  <tbody>\n",
       "    <tr>\n",
       "      <th>0</th>\n",
       "      <td>212886.47</td>\n",
       "      <td>386293.25</td>\n",
       "      <td>1438.84</td>\n",
       "      <td>2.00e-06</td>\n",
       "      <td>Viersen_Fault</td>\n",
       "    </tr>\n",
       "    <tr>\n",
       "      <th>1</th>\n",
       "      <td>214018.93</td>\n",
       "      <td>381038.23</td>\n",
       "      <td>1292.09</td>\n",
       "      <td>2.00e-06</td>\n",
       "      <td>Viersen_Fault</td>\n",
       "    </tr>\n",
       "    <tr>\n",
       "      <th>2</th>\n",
       "      <td>214036.47</td>\n",
       "      <td>378345.80</td>\n",
       "      <td>878.66</td>\n",
       "      <td>2.00e-06</td>\n",
       "      <td>Viersen_Fault</td>\n",
       "    </tr>\n",
       "    <tr>\n",
       "      <th>3</th>\n",
       "      <td>212497.13</td>\n",
       "      <td>388727.50</td>\n",
       "      <td>1778.52</td>\n",
       "      <td>2.00e-06</td>\n",
       "      <td>Viersen_Fault</td>\n",
       "    </tr>\n",
       "    <tr>\n",
       "      <th>4</th>\n",
       "      <td>214900.68</td>\n",
       "      <td>375129.38</td>\n",
       "      <td>935.02</td>\n",
       "      <td>2.00e-06</td>\n",
       "      <td>Viersen_Fault</td>\n",
       "    </tr>\n",
       "  </tbody>\n",
       "</table>\n",
       "</div>"
      ],
      "text/plain": [
       "           X          Y        Z    smooth        surface\n",
       "0  212886.47  386293.25  1438.84  2.00e-06  Viersen_Fault\n",
       "1  214018.93  381038.23  1292.09  2.00e-06  Viersen_Fault\n",
       "2  214036.47  378345.80   878.66  2.00e-06  Viersen_Fault\n",
       "3  212497.13  388727.50  1778.52  2.00e-06  Viersen_Fault\n",
       "4  214900.68  375129.38   935.02  2.00e-06  Viersen_Fault"
      ]
     },
     "execution_count": 156,
     "metadata": {},
     "output_type": "execute_result"
    }
   ],
   "source": [
    "#now geomodel contains important info, returning info from the input data\n",
    "geo_model.grid\n",
    "\n",
    "gp.get_data(geo_model, 'surface_points').head()\n",
    "\n"
   ]
  },
  {
   "cell_type": "code",
   "execution_count": 157,
   "id": "111d92c1",
   "metadata": {},
   "outputs": [
    {
     "data": {
      "text/html": [
       "<div>\n",
       "<style scoped>\n",
       "    .dataframe tbody tr th:only-of-type {\n",
       "        vertical-align: middle;\n",
       "    }\n",
       "\n",
       "    .dataframe tbody tr th {\n",
       "        vertical-align: top;\n",
       "    }\n",
       "\n",
       "    .dataframe thead th {\n",
       "        text-align: right;\n",
       "    }\n",
       "</style>\n",
       "<table border=\"1\" class=\"dataframe\">\n",
       "  <thead>\n",
       "    <tr style=\"text-align: right;\">\n",
       "      <th></th>\n",
       "      <th>X</th>\n",
       "      <th>Y</th>\n",
       "      <th>Z</th>\n",
       "      <th>G_x</th>\n",
       "      <th>G_y</th>\n",
       "      <th>G_z</th>\n",
       "      <th>smooth</th>\n",
       "      <th>surface</th>\n",
       "    </tr>\n",
       "  </thead>\n",
       "  <tbody>\n",
       "    <tr>\n",
       "      <th>0</th>\n",
       "      <td>213147.2</td>\n",
       "      <td>386374.1</td>\n",
       "      <td>1681.25</td>\n",
       "      <td>-9.06e-01</td>\n",
       "      <td>1.00e-12</td>\n",
       "      <td>0.42</td>\n",
       "      <td>0.01</td>\n",
       "      <td>Viersen_Fault</td>\n",
       "    </tr>\n",
       "    <tr>\n",
       "      <th>1</th>\n",
       "      <td>203610.0</td>\n",
       "      <td>379150.0</td>\n",
       "      <td>1879.86</td>\n",
       "      <td>1.00e-12</td>\n",
       "      <td>1.00e-12</td>\n",
       "      <td>1.00</td>\n",
       "      <td>0.01</td>\n",
       "      <td>Base_Tertiary</td>\n",
       "    </tr>\n",
       "    <tr>\n",
       "      <th>2</th>\n",
       "      <td>203010.0</td>\n",
       "      <td>373670.0</td>\n",
       "      <td>1200.10</td>\n",
       "      <td>1.00e-12</td>\n",
       "      <td>1.00e-12</td>\n",
       "      <td>1.00</td>\n",
       "      <td>0.01</td>\n",
       "      <td>Top_Dinantian</td>\n",
       "    </tr>\n",
       "    <tr>\n",
       "      <th>3</th>\n",
       "      <td>204000.0</td>\n",
       "      <td>394000.0</td>\n",
       "      <td>908.20</td>\n",
       "      <td>1.00e-12</td>\n",
       "      <td>1.00e-12</td>\n",
       "      <td>1.00</td>\n",
       "      <td>0.01</td>\n",
       "      <td>Base_Dinantian</td>\n",
       "    </tr>\n",
       "    <tr>\n",
       "      <th>4</th>\n",
       "      <td>200710.0</td>\n",
       "      <td>382530.0</td>\n",
       "      <td>439.80</td>\n",
       "      <td>1.00e-12</td>\n",
       "      <td>1.00e-12</td>\n",
       "      <td>1.00</td>\n",
       "      <td>0.01</td>\n",
       "      <td>Top_Devonian</td>\n",
       "    </tr>\n",
       "  </tbody>\n",
       "</table>\n",
       "</div>"
      ],
      "text/plain": [
       "          X         Y        Z       G_x       G_y   G_z  smooth  \\\n",
       "0  213147.2  386374.1  1681.25 -9.06e-01  1.00e-12  0.42    0.01   \n",
       "1  203610.0  379150.0  1879.86  1.00e-12  1.00e-12  1.00    0.01   \n",
       "2  203010.0  373670.0  1200.10  1.00e-12  1.00e-12  1.00    0.01   \n",
       "3  204000.0  394000.0   908.20  1.00e-12  1.00e-12  1.00    0.01   \n",
       "4  200710.0  382530.0   439.80  1.00e-12  1.00e-12  1.00    0.01   \n",
       "\n",
       "          surface  \n",
       "0   Viersen_Fault  \n",
       "1   Base_Tertiary  \n",
       "2   Top_Dinantian  \n",
       "3  Base_Dinantian  \n",
       "4    Top_Devonian  "
      ]
     },
     "execution_count": 157,
     "metadata": {},
     "output_type": "execute_result"
    }
   ],
   "source": [
    "gp.get_data(geo_model, 'orientations')"
   ]
  },
  {
   "cell_type": "code",
   "execution_count": 158,
   "id": "09953a70",
   "metadata": {},
   "outputs": [
    {
     "name": "stderr",
     "output_type": "stream",
     "text": [
      "C:\\Users\\tgluz\\.conda\\envs\\model_gem\\lib\\site-packages\\gempy\\plot\\plot_api.py:261: UserWarning: Matplotlib is currently using module://matplotlib_inline.backend_inline, which is a non-GUI backend, so cannot show the figure.\n",
      "  p.fig.show()\n"
     ]
    },
    {
     "data": {
      "image/png": "[encoded data removed]",
      "text/plain": [
       "<Figure size 1040x715 with 1 Axes>"
      ]
     },
     "metadata": {},
     "output_type": "display_data"
    }
   ],
   "source": [
    "#visualising input data\n",
    "plot = gp.plot_2d(geo_model, show_lith=False, show_boundaries=False, )\n",
    "plt.show()\n",
    "\n"
   ]
  },
  {
   "cell_type": "code",
   "execution_count": 159,
   "id": "ba43730c",
   "metadata": {},
   "outputs": [],
   "source": [
    "gpv = gp.plot_3d(geo_model, image=False,  plotter_type='basic', )"
   ]
  },
  {
   "cell_type": "code",
   "execution_count": 160,
   "id": "3d30d143",
   "metadata": {
    "scrolled": true
   },
   "outputs": [
    {
     "name": "stdout",
     "output_type": "stream",
     "text": [
      "Setting kriging parameters to their default values.\n",
      "Compiling theano function...\n",
      "Level of Optimization:  fast_compile\n",
      "Device:  cpu\n",
      "Precision:  float64\n",
      "Number of faults:  1\n",
      "Compilation Done!\n",
      "Kriging values: \n",
      "                       values\n",
      "range               31494.29\n",
      "$C_o$            23616428.57\n",
      "drift equations    [3, 3, 3]\n"
     ]
    },
    {
     "data": {
      "text/plain": [
       "\n",
       "Lithology ids \n",
       "  [6. 6. 6. ... 2. 2. 2.] "
      ]
     },
     "execution_count": 160,
     "metadata": {},
     "output_type": "execute_result"
    }
   ],
   "source": [
    "#Model generation\n",
    "gp.set_interpolator(geo_model,\n",
    "                    comlile_theano=True,\n",
    "                    theano_optimizer='fast_compile',)\n",
    "\n",
    "gp.get_data(geo_model, 'kriging')\n",
    "\n",
    "sol = gp.compute_model(geo_model)\n",
    "\n",
    "sol\n",
    "\n",
    "geo_model.solutions"
   ]
  },
  {
   "cell_type": "code",
   "execution_count": 161,
   "id": "6e8ec6e4",
   "metadata": {},
   "outputs": [],
   "source": [
    "#Direct visualisation in GemPy\n",
    "#lithology block\n",
    "#gp.plot_2d(geo_model, cell_number=25,show_data=True)\n",
    "#plt.show()\n",
    "#lithological scalar-field solution -> fold related deformation\n",
    "#gp.plot_2d(geo_model, show_data=False, show_scalar=True, show_lith=False)\n",
    "#plt.show()\n",
    "\n",
    "#fold related deformation on stratigraphy\n",
    "#gp.plot_2d(geo_model, series_n=1, show_data=False, show_scalar=True, show_lith=False)\n",
    "#plt.show()\n",
    "\n",
    "#fault network modelling\n",
    "#geo_model.solutions.scalar_field_at_surface_points\n",
    "\n",
    "##gp.plot_2d(geo_model, show_block=True, show_lith=False)\n",
    "#plt.show()\n",
    "\n",
    "#gp.plot_2d(geo_model, series_n=1, show_block=True, show_lith=False)\n",
    "#plt.show()"
   ]
  },
  {
   "cell_type": "code",
   "execution_count": 162,
   "id": "32f36ac6",
   "metadata": {},
   "outputs": [],
   "source": [
    "#3D visualisation with cubes\n",
    "ver, sim = gp.get_surfaces(geo_model)\n",
    "gpv = gp.plot_3d(geo_model, image=False, plotter_type='basic')"
   ]
  },
  {
   "cell_type": "code",
   "execution_count": 163,
   "id": "87401e45",
   "metadata": {},
   "outputs": [],
   "source": [
    "#Adding topography NEED TO IMPLEMENT DTM\n",
    "#geo_model.set_topography(d_z=(350,750))\n",
    "\n",
    "#gp.compute_model(geo_model)\n",
    "#gp.plot_2d(geo_model, show_topography=True)\n",
    "#plt.show()\n"
   ]
  },
  {
   "cell_type": "code",
   "execution_count": 164,
   "id": "03eca8f9",
   "metadata": {},
   "outputs": [],
   "source": [
    "# sphinx_gallery_thumbnail_number = 9\n",
    "#gpv = gp.plot_3d(geo_model, plotter_type='basic', show_topography=True, show_surfaces=True,\n",
    "#                 show_lith=True,\n",
    "#                 image=False)"
   ]
  },
  {
   "cell_type": "code",
   "execution_count": 165,
   "id": "79e9e4f8",
   "metadata": {},
   "outputs": [
    {
     "name": "stdout",
     "output_type": "stream",
     "text": [
      "Active grids: ['custom']\n"
     ]
    },
    {
     "name": "stderr",
     "output_type": "stream",
     "text": [
      "C:\\Users\\tgluz\\.conda\\envs\\model_gem\\lib\\site-packages\\gempy\\core\\solution.py:175: VisibleDeprecationWarning: Creating an ndarray from ragged nested sequences (which is a list-or-tuple of lists-or-tuples-or ndarrays with different lengths or shapes) is deprecated. If you meant to do this, you must specify 'dtype=object' when creating the ndarray.\n",
      "  self.custom = np.array(\n"
     ]
    },
    {
     "data": {
      "text/plain": [
       "array([array([[6.]]), array([[8.13808645],\n",
       "                             [0.22683722]])], dtype=object)"
      ]
     },
     "execution_count": 165,
     "metadata": {},
     "output_type": "execute_result"
    }
   ],
   "source": [
    "#returning the id at the scalar field values\n",
    "x_i = np.array([3, 5, 6])\n",
    "sol = gp.compute_model(geo_model, at=x_i)\n",
    "\n",
    "sol.custom"
   ]
  },
  {
   "cell_type": "code",
   "execution_count": 166,
   "id": "79af6521",
   "metadata": {},
   "outputs": [
    {
     "data": {
      "text/plain": [
       "True"
      ]
     },
     "execution_count": 166,
     "metadata": {},
     "output_type": "execute_result"
    }
   ],
   "source": [
    "#save the model!\n",
    "\n",
    "gp.save_model(geo_model)"
   ]
  },
  {
   "cell_type": "code",
   "execution_count": null,
   "id": "563db60f",
   "metadata": {},
   "outputs": [],
   "source": []
  },
  {
   "cell_type": "code",
   "execution_count": null,
   "id": "2c501c96",
   "metadata": {},
   "outputs": [],
   "source": []
  }
 ],
 "metadata": {
  "kernelspec": {
   "display_name": "Python (model_gem)",
   "language": "python",
   "name": "model_gem"
  },
  "language_info": {
   "codemirror_mode": {
    "name": "ipython",
    "version": 3
   },
   "file_extension": ".py",
   "mimetype": "text/x-python",
   "name": "python",
   "nbconvert_exporter": "python",
   "pygments_lexer": "ipython3",
   "version": "3.9.13"
  }
 },
 "nbformat": 4,
 "nbformat_minor": 5
}
